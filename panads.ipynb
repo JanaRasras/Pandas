#!/usr/bin/env python
# coding: utf-8

# # Part 2
# 

# ### Importing Libraries
# 

# In[273]:


get_ipython().run_line_magic('matplotlib', 'inline')
get_ipython().run_line_magic('config', "InlineBackend.figure_format = 'retina'")
import numpy as np
import pandas as pd
import matplotlib.pyplot as plt


# ### Load and prepare the data
# 

# In[274]:


dataset = pd.read_csv('data.csv',sep=',')
dataset.head()


# In[275]:


dataset.loc[:, 'date'] = pd.to_datetime(dataset["date"])

dataset.loc[:, 'date'] = dataset["date"].apply( 
    lambda df : pd.datetime(year=df.year, month=df.month, day=df.day)
) 
dataset.set_index(dataset["date"],inplace=True)

dataset.head()


# ## 1. Pre-processing

# In[276]:


input_ds = dataset[ ['date','max temp','mean temp', 'min temp', 'snow on grnd (cm)', 'total precip (mm)', 'total rain (mm)', 'total snow (cm)' ] ]
#input_ds.loc[:, 'date'] = pd.to_datetime(input_ds["date"])

input_ds.head()


# ###  1. First sum 

# In[277]:


temp_ds = dataset[ ['count'] ]

temp_ds.head()


# In[278]:


b = temp_ds['count'].resample('D').sum()
print(b)

temp_ds.insert(loc=1, column='total counts', value= 0)
temp_ds.head()


# In[282]:


a = temp_ds.groupby('D')['raccoons_bought'].transform('sum')


# In[ ]:


def preprocessing(df: pd.DataFrame):
    '''
    Pre-process a dataframe

    :param pd.DataFrame df: raw dataframe from data.csv

    :returns pd.DataFrame processed_df: processed dataframe
    '''
    
    return processed_df


# ### 2.

# In[7]:


def preprocessing(df: pd.DataFrame):
    '''
    Pre-process a dataframe

    :param pd.DataFrame df: raw dataframe from data.csv

    :returns pd.DataFrame processed_df: processed dataframe
    '''

    return processed_df


# ## 2. Data engineering
# 

# ### Splitting the data into training, testing, and validation sets

# In[12]:



split_frac = 0.8

## split data into training, and test data 

split_idx = int(len(features)*split_frac)
train_x, remaining_x = features[:split_idx], features[split_idx:]
train_y, remaining_y = encoded_labels[:split_idx], encoded_labels[split_idx:]

test_idx = int(len(remaining_x)*0.5)
val_x, test_x = remaining_x[:test_idx], remaining_x[test_idx:]
val_y, test_y = remaining_y[:test_idx], remaining_y[test_idx:]

## print out the shapes of your resultant feature data
print("\t\t\tFeature Shapes:")
print("Train set: \t\t{}".format(train_x.shape), 
      "\nValidation set: \t{}".format(val_x.shape),
      "\nTest set: \t\t{}".format(test_x.shape))


# ### build the network

# In[15]:


class NeuralNetwork(object):
    def __init__(self, input_nodes, hidden_nodes, output_nodes, learning_rate):
        #  number of nodes in input, hidden and output layers.
        self.input_nodes = input_nodes
        self.hidden_nodes = hidden_nodes
        self.output_nodes = output_nodes

        # Initialize weights
        self.weights_input_to_hidden = np.random.normal(0.0, self.input_nodes**-0.5, 
                                       (self.input_nodes, self.hidden_nodes))

        self.weights_hidden_to_output = np.random.normal(0.0, self.hidden_nodes**-0.5, 
                                       (self.hidden_nodes, self.output_nodes))
        self.lr = learning_rate
        
        #self.activation_function 
        self.activation_function = lambda x : 1 / (1 + np.exp(-x))                     

    def train(self, features, targets):
        ''' Train the network on batch of features and targets. 
        
            Arguments
            ---------
            
            features: 2D array, each row is one data record, each column is a feature
            targets: 1D array of target values
        
        '''
        n_records = features.shape[0]
        delta_weights_i_h = np.zeros(self.weights_input_to_hidden.shape)
        delta_weights_h_o = np.zeros(self.weights_hidden_to_output.shape)
        for X, y in zip(features, targets):
            
            final_outputs, hidden_outputs = self.forward_pass_train(X)  # Implement the forward pass function below
            # Implement the backproagation function below
            delta_weights_i_h, delta_weights_h_o = self.backpropagation(final_outputs, hidden_outputs, X, y, 
                                                                        delta_weights_i_h, delta_weights_h_o)
        self.update_weights(delta_weights_i_h, delta_weights_h_o, n_records)


    def forward_pass_train(self, X):
        ''' Implement forward pass here 
         
            Arguments
            ---------
            X: features batch

        '''

        ### Forward pass ###
        # Hidden layer
        hidden_inputs = np.dot(X, self.weights_input_to_hidden) 
        hidden_outputs = self.activation_function(hidden_inputs) 
        
        # Output layer
        final_inputs = np.dot(self.weights_hidden_to_output.T, hidden_outputs) 
        final_outputs = final_inputs 

        return final_outputs, hidden_outputs

    def backpropagation(self, final_outputs, hidden_outputs, X, y, delta_weights_i_h, delta_weights_h_o):
        ''' Implement backpropagation
         
            Arguments
            ---------
            final_outputs: output from forward pass
            y: target (i.e. label) batch
            delta_weights_i_h: change in weights from input to hidden layers
            delta_weights_h_o: change in weights from hidden to output layers

        '''
        ### Backward pass ###

        #  Output error 
        error = y - final_outputs # Output layer error is the difference between desired target and actual output.
        
        # Backpropagated error terms
        output_error_term = error * 1  # f'(x) = 1
                
        # Calculate the hidden layer's contribution to the error
        hidden_error = np.dot(output_error_term, self.weights_hidden_to_output.T)        
        hidden_error_term = hidden_error * hidden_outputs * (1 - hidden_outputs)  # f'(x) = f (1-f)
        
        # Weight step (input to hidden)
        delta_weights_i_h += hidden_error_term * X[:,None]  # col * col = element wise col
        # Weight step (hidden to output)
        delta_weights_h_o += (np.asmatrix(output_error_term) * np.asmatrix(hidden_outputs)).T
        
        return delta_weights_i_h, delta_weights_h_o

    def update_weights(self, delta_weights_i_h, delta_weights_h_o, n_records):
        ''' Update weights on gradient descent step
         
            Arguments
            ---------
            delta_weights_i_h: change in weights from input to hidden layers
            delta_weights_h_o: change in weights from hidden to output layers
            n_records: number of records

        '''
        self.weights_hidden_to_output += self.lr * delta_weights_h_o / n_records # update hidden-to-output weights with gradient descent step
        self.weights_input_to_hidden += self.lr * delta_weights_i_h / n_records # update input-to-hidden weights with gradient descent step

    def run(self, features):
        ''' Run a forward pass through the network with input features 
        
            Arguments
            ---------
            features: 1D array of feature values
        '''
        
        #### Implementing the forward pass ####
        # Hidden layer.
        hidden_inputs = np.dot(features, self.weights_input_to_hidden) # signals into hidden layer
        hidden_outputs = self.activation_function(hidden_inputs) # signals from hidden layer
        
        # Output layer
        final_inputs = np.dot(hidden_outputs, self.weights_hidden_to_output) # signals into final output layer
        final_outputs = final_inputs # signals from final output layer 
        
        return final_outputs
    
iterations = 2500
learning_rate = 0.785
hidden_nodes = 19
output_nodes = 1


# In[ ]:




